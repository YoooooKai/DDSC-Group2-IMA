{
 "cells": [
  {
   "cell_type": "markdown",
   "id": "872a1799",
   "metadata": {},
   "source": [
    "# 1. Read the data into Jupyter"
   ]
  },
  {
   "cell_type": "code",
   "execution_count": 1,
   "id": "170164a3",
   "metadata": {},
   "outputs": [
    {
     "name": "stdout",
     "output_type": "stream",
     "text": [
      "Requirement already satisfied: pandas in h:\\anaconda3\\lib\\site-packages (1.3.4)\n",
      "Requirement already satisfied: python-dateutil>=2.7.3 in h:\\anaconda3\\lib\\site-packages (from pandas) (2.8.2)\n",
      "Requirement already satisfied: numpy>=1.17.3 in h:\\anaconda3\\lib\\site-packages (from pandas) (1.20.3)\n",
      "Requirement already satisfied: pytz>=2017.3 in h:\\anaconda3\\lib\\site-packages (from pandas) (2021.3)\n",
      "Requirement already satisfied: six>=1.5 in h:\\anaconda3\\lib\\site-packages (from python-dateutil>=2.7.3->pandas) (1.16.0)\n"
     ]
    }
   ],
   "source": [
    "# For the following analysis\n",
    "!pip install pandas\n",
    "import pandas as pd\n",
    "import numpy as np\n",
    "import matplotlib.pyplot as plt\n",
    "import seaborn as sns"
   ]
  },
  {
   "cell_type": "code",
   "execution_count": 2,
   "id": "9ed7a7f9",
   "metadata": {},
   "outputs": [
    {
     "data": {
      "text/html": [
       "<div>\n",
       "<style scoped>\n",
       "    .dataframe tbody tr th:only-of-type {\n",
       "        vertical-align: middle;\n",
       "    }\n",
       "\n",
       "    .dataframe tbody tr th {\n",
       "        vertical-align: top;\n",
       "    }\n",
       "\n",
       "    .dataframe thead th {\n",
       "        text-align: right;\n",
       "    }\n",
       "</style>\n",
       "<table border=\"1\" class=\"dataframe\">\n",
       "  <thead>\n",
       "    <tr style=\"text-align: right;\">\n",
       "      <th></th>\n",
       "      <th>Coolant_level</th>\n",
       "      <th>Electrical_supply_voltage</th>\n",
       "      <th>Electrical_supply_current</th>\n",
       "      <th>Compressed_air_flow_rate</th>\n",
       "      <th>Compressed_air_pressure</th>\n",
       "      <th>Compressed_air_temperature</th>\n",
       "      <th>Through_spindle_coolant_pressure</th>\n",
       "      <th>Through_spindle_coolant_flow</th>\n",
       "      <th>Flood_coolant_flow</th>\n",
       "      <th>Coolant_temperature</th>\n",
       "      <th>Coolant_Acidity</th>\n",
       "      <th>Spindle_speed</th>\n",
       "      <th>Servo_motor_vibration</th>\n",
       "      <th>Servo_motor_torque</th>\n",
       "      <th>Coolant_dilution</th>\n",
       "      <th>Ballscrew_strain</th>\n",
       "      <th>Process_sound_monitoring</th>\n",
       "      <th>Spindle_vibration</th>\n",
       "      <th>Target</th>\n",
       "    </tr>\n",
       "    <tr>\n",
       "      <th>machine_id</th>\n",
       "      <th></th>\n",
       "      <th></th>\n",
       "      <th></th>\n",
       "      <th></th>\n",
       "      <th></th>\n",
       "      <th></th>\n",
       "      <th></th>\n",
       "      <th></th>\n",
       "      <th></th>\n",
       "      <th></th>\n",
       "      <th></th>\n",
       "      <th></th>\n",
       "      <th></th>\n",
       "      <th></th>\n",
       "      <th></th>\n",
       "      <th></th>\n",
       "      <th></th>\n",
       "      <th></th>\n",
       "      <th></th>\n",
       "    </tr>\n",
       "  </thead>\n",
       "  <tbody>\n",
       "    <tr>\n",
       "      <th>d8b67d7f-2c3e-46e4-94cc-cdaa67023b56</th>\n",
       "      <td>187</td>\n",
       "      <td>238.7</td>\n",
       "      <td>142.6</td>\n",
       "      <td>44.0</td>\n",
       "      <td>4.4</td>\n",
       "      <td>51.4</td>\n",
       "      <td>771.8</td>\n",
       "      <td>446.9</td>\n",
       "      <td>189.3</td>\n",
       "      <td>61.7</td>\n",
       "      <td>7.2</td>\n",
       "      <td>14986.5</td>\n",
       "      <td>19.8</td>\n",
       "      <td>11.0</td>\n",
       "      <td>4.8</td>\n",
       "      <td>46.7</td>\n",
       "      <td>21.6</td>\n",
       "      <td>6.8</td>\n",
       "      <td>1</td>\n",
       "    </tr>\n",
       "    <tr>\n",
       "      <th>2591cdaa-d61b-4f90-a08c-e69741ff34fa</th>\n",
       "      <td>58</td>\n",
       "      <td>139.8</td>\n",
       "      <td>26.1</td>\n",
       "      <td>66.0</td>\n",
       "      <td>0.5</td>\n",
       "      <td>41.4</td>\n",
       "      <td>39.0</td>\n",
       "      <td>644.6</td>\n",
       "      <td>214.1</td>\n",
       "      <td>37.0</td>\n",
       "      <td>4.6</td>\n",
       "      <td>9607.2</td>\n",
       "      <td>33.5</td>\n",
       "      <td>146.5</td>\n",
       "      <td>150.2</td>\n",
       "      <td>99.0</td>\n",
       "      <td>50.4</td>\n",
       "      <td>34.9</td>\n",
       "      <td>1</td>\n",
       "    </tr>\n",
       "    <tr>\n",
       "      <th>832fd357-3ca1-4c21-869b-18f18ea88f67</th>\n",
       "      <td>267</td>\n",
       "      <td>257.7</td>\n",
       "      <td>120.1</td>\n",
       "      <td>99.9</td>\n",
       "      <td>29.0</td>\n",
       "      <td>89.3</td>\n",
       "      <td>700.5</td>\n",
       "      <td>411.0</td>\n",
       "      <td>347.9</td>\n",
       "      <td>16.0</td>\n",
       "      <td>10.1</td>\n",
       "      <td>36063.3</td>\n",
       "      <td>48.2</td>\n",
       "      <td>5.5</td>\n",
       "      <td>181.4</td>\n",
       "      <td>2.5</td>\n",
       "      <td>102.2</td>\n",
       "      <td>42.6</td>\n",
       "      <td>2</td>\n",
       "    </tr>\n",
       "    <tr>\n",
       "      <th>004c77eb-e04a-4b87-bf00-67d941bf5436</th>\n",
       "      <td>132</td>\n",
       "      <td>341.7</td>\n",
       "      <td>142.8</td>\n",
       "      <td>22.7</td>\n",
       "      <td>5.6</td>\n",
       "      <td>1.5</td>\n",
       "      <td>515.0</td>\n",
       "      <td>176.6</td>\n",
       "      <td>278.3</td>\n",
       "      <td>27.6</td>\n",
       "      <td>0.2</td>\n",
       "      <td>4326.5</td>\n",
       "      <td>1.7</td>\n",
       "      <td>125.3</td>\n",
       "      <td>190.6</td>\n",
       "      <td>92.5</td>\n",
       "      <td>78.9</td>\n",
       "      <td>5.9</td>\n",
       "      <td>1</td>\n",
       "    </tr>\n",
       "    <tr>\n",
       "      <th>08e4b5f7-b048-45f5-a2fb-e134ad02bd23</th>\n",
       "      <td>108</td>\n",
       "      <td>211.0</td>\n",
       "      <td>73.4</td>\n",
       "      <td>5.1</td>\n",
       "      <td>4.6</td>\n",
       "      <td>27.5</td>\n",
       "      <td>1431.2</td>\n",
       "      <td>94.7</td>\n",
       "      <td>55.6</td>\n",
       "      <td>87.8</td>\n",
       "      <td>5.4</td>\n",
       "      <td>18552.7</td>\n",
       "      <td>5.0</td>\n",
       "      <td>90.0</td>\n",
       "      <td>87.0</td>\n",
       "      <td>62.1</td>\n",
       "      <td>115.3</td>\n",
       "      <td>19.4</td>\n",
       "      <td>1</td>\n",
       "    </tr>\n",
       "  </tbody>\n",
       "</table>\n",
       "</div>"
      ],
      "text/plain": [
       "                                      Coolant_level  \\\n",
       "machine_id                                            \n",
       "d8b67d7f-2c3e-46e4-94cc-cdaa67023b56            187   \n",
       "2591cdaa-d61b-4f90-a08c-e69741ff34fa             58   \n",
       "832fd357-3ca1-4c21-869b-18f18ea88f67            267   \n",
       "004c77eb-e04a-4b87-bf00-67d941bf5436            132   \n",
       "08e4b5f7-b048-45f5-a2fb-e134ad02bd23            108   \n",
       "\n",
       "                                      Electrical_supply_voltage  \\\n",
       "machine_id                                                        \n",
       "d8b67d7f-2c3e-46e4-94cc-cdaa67023b56                      238.7   \n",
       "2591cdaa-d61b-4f90-a08c-e69741ff34fa                      139.8   \n",
       "832fd357-3ca1-4c21-869b-18f18ea88f67                      257.7   \n",
       "004c77eb-e04a-4b87-bf00-67d941bf5436                      341.7   \n",
       "08e4b5f7-b048-45f5-a2fb-e134ad02bd23                      211.0   \n",
       "\n",
       "                                      Electrical_supply_current  \\\n",
       "machine_id                                                        \n",
       "d8b67d7f-2c3e-46e4-94cc-cdaa67023b56                      142.6   \n",
       "2591cdaa-d61b-4f90-a08c-e69741ff34fa                       26.1   \n",
       "832fd357-3ca1-4c21-869b-18f18ea88f67                      120.1   \n",
       "004c77eb-e04a-4b87-bf00-67d941bf5436                      142.8   \n",
       "08e4b5f7-b048-45f5-a2fb-e134ad02bd23                       73.4   \n",
       "\n",
       "                                      Compressed_air_flow_rate  \\\n",
       "machine_id                                                       \n",
       "d8b67d7f-2c3e-46e4-94cc-cdaa67023b56                      44.0   \n",
       "2591cdaa-d61b-4f90-a08c-e69741ff34fa                      66.0   \n",
       "832fd357-3ca1-4c21-869b-18f18ea88f67                      99.9   \n",
       "004c77eb-e04a-4b87-bf00-67d941bf5436                      22.7   \n",
       "08e4b5f7-b048-45f5-a2fb-e134ad02bd23                       5.1   \n",
       "\n",
       "                                      Compressed_air_pressure  \\\n",
       "machine_id                                                      \n",
       "d8b67d7f-2c3e-46e4-94cc-cdaa67023b56                      4.4   \n",
       "2591cdaa-d61b-4f90-a08c-e69741ff34fa                      0.5   \n",
       "832fd357-3ca1-4c21-869b-18f18ea88f67                     29.0   \n",
       "004c77eb-e04a-4b87-bf00-67d941bf5436                      5.6   \n",
       "08e4b5f7-b048-45f5-a2fb-e134ad02bd23                      4.6   \n",
       "\n",
       "                                      Compressed_air_temperature  \\\n",
       "machine_id                                                         \n",
       "d8b67d7f-2c3e-46e4-94cc-cdaa67023b56                        51.4   \n",
       "2591cdaa-d61b-4f90-a08c-e69741ff34fa                        41.4   \n",
       "832fd357-3ca1-4c21-869b-18f18ea88f67                        89.3   \n",
       "004c77eb-e04a-4b87-bf00-67d941bf5436                         1.5   \n",
       "08e4b5f7-b048-45f5-a2fb-e134ad02bd23                        27.5   \n",
       "\n",
       "                                      Through_spindle_coolant_pressure  \\\n",
       "machine_id                                                               \n",
       "d8b67d7f-2c3e-46e4-94cc-cdaa67023b56                             771.8   \n",
       "2591cdaa-d61b-4f90-a08c-e69741ff34fa                              39.0   \n",
       "832fd357-3ca1-4c21-869b-18f18ea88f67                             700.5   \n",
       "004c77eb-e04a-4b87-bf00-67d941bf5436                             515.0   \n",
       "08e4b5f7-b048-45f5-a2fb-e134ad02bd23                            1431.2   \n",
       "\n",
       "                                      Through_spindle_coolant_flow  \\\n",
       "machine_id                                                           \n",
       "d8b67d7f-2c3e-46e4-94cc-cdaa67023b56                         446.9   \n",
       "2591cdaa-d61b-4f90-a08c-e69741ff34fa                         644.6   \n",
       "832fd357-3ca1-4c21-869b-18f18ea88f67                         411.0   \n",
       "004c77eb-e04a-4b87-bf00-67d941bf5436                         176.6   \n",
       "08e4b5f7-b048-45f5-a2fb-e134ad02bd23                          94.7   \n",
       "\n",
       "                                      Flood_coolant_flow  Coolant_temperature  \\\n",
       "machine_id                                                                      \n",
       "d8b67d7f-2c3e-46e4-94cc-cdaa67023b56               189.3                 61.7   \n",
       "2591cdaa-d61b-4f90-a08c-e69741ff34fa               214.1                 37.0   \n",
       "832fd357-3ca1-4c21-869b-18f18ea88f67               347.9                 16.0   \n",
       "004c77eb-e04a-4b87-bf00-67d941bf5436               278.3                 27.6   \n",
       "08e4b5f7-b048-45f5-a2fb-e134ad02bd23                55.6                 87.8   \n",
       "\n",
       "                                      Coolant_Acidity  Spindle_speed  \\\n",
       "machine_id                                                             \n",
       "d8b67d7f-2c3e-46e4-94cc-cdaa67023b56              7.2        14986.5   \n",
       "2591cdaa-d61b-4f90-a08c-e69741ff34fa              4.6         9607.2   \n",
       "832fd357-3ca1-4c21-869b-18f18ea88f67             10.1        36063.3   \n",
       "004c77eb-e04a-4b87-bf00-67d941bf5436              0.2         4326.5   \n",
       "08e4b5f7-b048-45f5-a2fb-e134ad02bd23              5.4        18552.7   \n",
       "\n",
       "                                      Servo_motor_vibration  \\\n",
       "machine_id                                                    \n",
       "d8b67d7f-2c3e-46e4-94cc-cdaa67023b56                   19.8   \n",
       "2591cdaa-d61b-4f90-a08c-e69741ff34fa                   33.5   \n",
       "832fd357-3ca1-4c21-869b-18f18ea88f67                   48.2   \n",
       "004c77eb-e04a-4b87-bf00-67d941bf5436                    1.7   \n",
       "08e4b5f7-b048-45f5-a2fb-e134ad02bd23                    5.0   \n",
       "\n",
       "                                      Servo_motor_torque  Coolant_dilution  \\\n",
       "machine_id                                                                   \n",
       "d8b67d7f-2c3e-46e4-94cc-cdaa67023b56                11.0               4.8   \n",
       "2591cdaa-d61b-4f90-a08c-e69741ff34fa               146.5             150.2   \n",
       "832fd357-3ca1-4c21-869b-18f18ea88f67                 5.5             181.4   \n",
       "004c77eb-e04a-4b87-bf00-67d941bf5436               125.3             190.6   \n",
       "08e4b5f7-b048-45f5-a2fb-e134ad02bd23                90.0              87.0   \n",
       "\n",
       "                                      Ballscrew_strain  \\\n",
       "machine_id                                               \n",
       "d8b67d7f-2c3e-46e4-94cc-cdaa67023b56              46.7   \n",
       "2591cdaa-d61b-4f90-a08c-e69741ff34fa              99.0   \n",
       "832fd357-3ca1-4c21-869b-18f18ea88f67               2.5   \n",
       "004c77eb-e04a-4b87-bf00-67d941bf5436              92.5   \n",
       "08e4b5f7-b048-45f5-a2fb-e134ad02bd23              62.1   \n",
       "\n",
       "                                      Process_sound_monitoring  \\\n",
       "machine_id                                                       \n",
       "d8b67d7f-2c3e-46e4-94cc-cdaa67023b56                      21.6   \n",
       "2591cdaa-d61b-4f90-a08c-e69741ff34fa                      50.4   \n",
       "832fd357-3ca1-4c21-869b-18f18ea88f67                     102.2   \n",
       "004c77eb-e04a-4b87-bf00-67d941bf5436                      78.9   \n",
       "08e4b5f7-b048-45f5-a2fb-e134ad02bd23                     115.3   \n",
       "\n",
       "                                      Spindle_vibration  Target  \n",
       "machine_id                                                       \n",
       "d8b67d7f-2c3e-46e4-94cc-cdaa67023b56                6.8       1  \n",
       "2591cdaa-d61b-4f90-a08c-e69741ff34fa               34.9       1  \n",
       "832fd357-3ca1-4c21-869b-18f18ea88f67               42.6       2  \n",
       "004c77eb-e04a-4b87-bf00-67d941bf5436                5.9       1  \n",
       "08e4b5f7-b048-45f5-a2fb-e134ad02bd23               19.4       1  "
      ]
     },
     "execution_count": 2,
     "metadata": {},
     "output_type": "execute_result"
    }
   ],
   "source": [
    "data_df = pd.read_csv(\"machine_data_for_student_4.csv\", index_col = \"machine_id\")\n",
    "# Rename columns\n",
    "data_df.columns = data_df.columns.str.replace(\"Target_1\", \"Target\")\n",
    "data_df.head()"
   ]
  },
  {
   "cell_type": "markdown",
   "id": "90d6aff9",
   "metadata": {},
   "source": [
    "# 2. EDA"
   ]
  },
  {
   "cell_type": "markdown",
   "id": "709a9969",
   "metadata": {},
   "source": [
    "## Data cleaning "
   ]
  },
  {
   "cell_type": "code",
   "execution_count": 3,
   "id": "29a96583",
   "metadata": {
    "scrolled": true
   },
   "outputs": [
    {
     "name": "stdout",
     "output_type": "stream",
     "text": [
      "<class 'pandas.core.frame.DataFrame'>\n",
      "Index: 2182 entries, d8b67d7f-2c3e-46e4-94cc-cdaa67023b56 to 52c25f20-cb0e-4b34-afb6-c32e6be91c84\n",
      "Data columns (total 19 columns):\n",
      " #   Column                            Non-Null Count  Dtype  \n",
      "---  ------                            --------------  -----  \n",
      " 0   Coolant_level                     2182 non-null   int64  \n",
      " 1   Electrical_supply_voltage         2182 non-null   float64\n",
      " 2   Electrical_supply_current         2182 non-null   float64\n",
      " 3   Compressed_air_flow_rate          2182 non-null   float64\n",
      " 4   Compressed_air_pressure           2182 non-null   float64\n",
      " 5   Compressed_air_temperature        2182 non-null   float64\n",
      " 6   Through_spindle_coolant_pressure  2182 non-null   float64\n",
      " 7   Through_spindle_coolant_flow      2182 non-null   float64\n",
      " 8   Flood_coolant_flow                2182 non-null   float64\n",
      " 9   Coolant_temperature               2182 non-null   float64\n",
      " 10  Coolant_Acidity                   2182 non-null   float64\n",
      " 11  Spindle_speed                     2182 non-null   float64\n",
      " 12  Servo_motor_vibration             2182 non-null   float64\n",
      " 13  Servo_motor_torque                2182 non-null   float64\n",
      " 14  Coolant_dilution                  2182 non-null   float64\n",
      " 15  Ballscrew_strain                  2182 non-null   float64\n",
      " 16  Process_sound_monitoring          2182 non-null   float64\n",
      " 17  Spindle_vibration                 2182 non-null   float64\n",
      " 18  Target                            2182 non-null   int64  \n",
      "dtypes: float64(17), int64(2)\n",
      "memory usage: 340.9+ KB\n"
     ]
    }
   ],
   "source": [
    "data_df.info()"
   ]
  },
  {
   "cell_type": "code",
   "execution_count": 4,
   "id": "d4d2d3c4",
   "metadata": {
    "scrolled": true
   },
   "outputs": [
    {
     "data": {
      "text/plain": [
       "Coolant_level                       0\n",
       "Electrical_supply_voltage           0\n",
       "Electrical_supply_current           0\n",
       "Compressed_air_flow_rate            0\n",
       "Compressed_air_pressure             0\n",
       "Compressed_air_temperature          0\n",
       "Through_spindle_coolant_pressure    0\n",
       "Through_spindle_coolant_flow        0\n",
       "Flood_coolant_flow                  0\n",
       "Coolant_temperature                 0\n",
       "Coolant_Acidity                     0\n",
       "Spindle_speed                       0\n",
       "Servo_motor_vibration               0\n",
       "Servo_motor_torque                  0\n",
       "Coolant_dilution                    0\n",
       "Ballscrew_strain                    0\n",
       "Process_sound_monitoring            0\n",
       "Spindle_vibration                   0\n",
       "Target                              0\n",
       "dtype: int64"
      ]
     },
     "execution_count": 4,
     "metadata": {},
     "output_type": "execute_result"
    }
   ],
   "source": [
    "# Make sure no missing values in this dataframe\n",
    "data_df.isnull().sum()"
   ]
  },
  {
   "cell_type": "markdown",
   "id": "bcf827f8",
   "metadata": {},
   "source": [
    "## Data description"
   ]
  },
  {
   "cell_type": "code",
   "execution_count": 5,
   "id": "3b54141d",
   "metadata": {
    "scrolled": false
   },
   "outputs": [
    {
     "data": {
      "text/html": [
       "<div>\n",
       "<style scoped>\n",
       "    .dataframe tbody tr th:only-of-type {\n",
       "        vertical-align: middle;\n",
       "    }\n",
       "\n",
       "    .dataframe tbody tr th {\n",
       "        vertical-align: top;\n",
       "    }\n",
       "\n",
       "    .dataframe thead th {\n",
       "        text-align: right;\n",
       "    }\n",
       "</style>\n",
       "<table border=\"1\" class=\"dataframe\">\n",
       "  <thead>\n",
       "    <tr style=\"text-align: right;\">\n",
       "      <th></th>\n",
       "      <th>Coolant_level</th>\n",
       "      <th>Electrical_supply_voltage</th>\n",
       "      <th>Electrical_supply_current</th>\n",
       "      <th>Compressed_air_flow_rate</th>\n",
       "      <th>Compressed_air_pressure</th>\n",
       "      <th>Compressed_air_temperature</th>\n",
       "      <th>Through_spindle_coolant_pressure</th>\n",
       "      <th>Through_spindle_coolant_flow</th>\n",
       "      <th>Flood_coolant_flow</th>\n",
       "      <th>Coolant_temperature</th>\n",
       "      <th>Coolant_Acidity</th>\n",
       "      <th>Spindle_speed</th>\n",
       "      <th>Servo_motor_vibration</th>\n",
       "      <th>Servo_motor_torque</th>\n",
       "      <th>Coolant_dilution</th>\n",
       "      <th>Ballscrew_strain</th>\n",
       "      <th>Process_sound_monitoring</th>\n",
       "      <th>Spindle_vibration</th>\n",
       "      <th>Target</th>\n",
       "    </tr>\n",
       "  </thead>\n",
       "  <tbody>\n",
       "    <tr>\n",
       "      <th>count</th>\n",
       "      <td>2182.000000</td>\n",
       "      <td>2182.000000</td>\n",
       "      <td>2182.000000</td>\n",
       "      <td>2182.000000</td>\n",
       "      <td>2182.000000</td>\n",
       "      <td>2182.000000</td>\n",
       "      <td>2182.000000</td>\n",
       "      <td>2182.000000</td>\n",
       "      <td>2182.000000</td>\n",
       "      <td>2182.000000</td>\n",
       "      <td>2182.000000</td>\n",
       "      <td>2182.000000</td>\n",
       "      <td>2182.000000</td>\n",
       "      <td>2182.000000</td>\n",
       "      <td>2182.000000</td>\n",
       "      <td>2182.000000</td>\n",
       "      <td>2182.000000</td>\n",
       "      <td>2182.000000</td>\n",
       "      <td>2182.000000</td>\n",
       "    </tr>\n",
       "    <tr>\n",
       "      <th>mean</th>\n",
       "      <td>139.312557</td>\n",
       "      <td>224.702337</td>\n",
       "      <td>57.169386</td>\n",
       "      <td>54.348029</td>\n",
       "      <td>15.846104</td>\n",
       "      <td>46.337443</td>\n",
       "      <td>641.747479</td>\n",
       "      <td>307.902383</td>\n",
       "      <td>307.984051</td>\n",
       "      <td>42.540742</td>\n",
       "      <td>7.012466</td>\n",
       "      <td>21439.557333</td>\n",
       "      <td>17.188222</td>\n",
       "      <td>79.916682</td>\n",
       "      <td>75.979881</td>\n",
       "      <td>34.765353</td>\n",
       "      <td>65.553483</td>\n",
       "      <td>17.384051</td>\n",
       "      <td>0.777269</td>\n",
       "    </tr>\n",
       "    <tr>\n",
       "      <th>std</th>\n",
       "      <td>72.857315</td>\n",
       "      <td>52.466764</td>\n",
       "      <td>43.681373</td>\n",
       "      <td>41.258687</td>\n",
       "      <td>14.609233</td>\n",
       "      <td>26.313949</td>\n",
       "      <td>398.191539</td>\n",
       "      <td>186.337149</td>\n",
       "      <td>182.748513</td>\n",
       "      <td>25.313686</td>\n",
       "      <td>3.029488</td>\n",
       "      <td>12531.884093</td>\n",
       "      <td>13.782263</td>\n",
       "      <td>52.916477</td>\n",
       "      <td>53.011670</td>\n",
       "      <td>26.616059</td>\n",
       "      <td>47.917455</td>\n",
       "      <td>13.657984</td>\n",
       "      <td>0.802836</td>\n",
       "    </tr>\n",
       "    <tr>\n",
       "      <th>min</th>\n",
       "      <td>1.000000</td>\n",
       "      <td>100.300000</td>\n",
       "      <td>0.100000</td>\n",
       "      <td>1.100000</td>\n",
       "      <td>0.300000</td>\n",
       "      <td>0.000000</td>\n",
       "      <td>0.500000</td>\n",
       "      <td>0.600000</td>\n",
       "      <td>0.400000</td>\n",
       "      <td>0.100000</td>\n",
       "      <td>0.000000</td>\n",
       "      <td>38.800000</td>\n",
       "      <td>1.000000</td>\n",
       "      <td>1.000000</td>\n",
       "      <td>0.200000</td>\n",
       "      <td>1.000000</td>\n",
       "      <td>0.100000</td>\n",
       "      <td>1.000000</td>\n",
       "      <td>0.000000</td>\n",
       "    </tr>\n",
       "    <tr>\n",
       "      <th>25%</th>\n",
       "      <td>80.000000</td>\n",
       "      <td>203.725000</td>\n",
       "      <td>22.700000</td>\n",
       "      <td>22.000000</td>\n",
       "      <td>4.600000</td>\n",
       "      <td>24.575000</td>\n",
       "      <td>310.750000</td>\n",
       "      <td>150.075000</td>\n",
       "      <td>157.625000</td>\n",
       "      <td>21.700000</td>\n",
       "      <td>5.400000</td>\n",
       "      <td>10408.375000</td>\n",
       "      <td>6.300000</td>\n",
       "      <td>37.000000</td>\n",
       "      <td>33.525000</td>\n",
       "      <td>15.500000</td>\n",
       "      <td>27.200000</td>\n",
       "      <td>7.000000</td>\n",
       "      <td>0.000000</td>\n",
       "    </tr>\n",
       "    <tr>\n",
       "      <th>50%</th>\n",
       "      <td>135.000000</td>\n",
       "      <td>224.450000</td>\n",
       "      <td>45.200000</td>\n",
       "      <td>40.450000</td>\n",
       "      <td>8.800000</td>\n",
       "      <td>45.300000</td>\n",
       "      <td>605.850000</td>\n",
       "      <td>299.250000</td>\n",
       "      <td>301.050000</td>\n",
       "      <td>40.000000</td>\n",
       "      <td>7.000000</td>\n",
       "      <td>21678.900000</td>\n",
       "      <td>12.200000</td>\n",
       "      <td>72.350000</td>\n",
       "      <td>65.550000</td>\n",
       "      <td>22.400000</td>\n",
       "      <td>54.800000</td>\n",
       "      <td>12.400000</td>\n",
       "      <td>1.000000</td>\n",
       "    </tr>\n",
       "    <tr>\n",
       "      <th>75%</th>\n",
       "      <td>187.000000</td>\n",
       "      <td>246.000000</td>\n",
       "      <td>87.275000</td>\n",
       "      <td>85.075000</td>\n",
       "      <td>26.675000</td>\n",
       "      <td>67.875000</td>\n",
       "      <td>930.550000</td>\n",
       "      <td>449.875000</td>\n",
       "      <td>449.700000</td>\n",
       "      <td>57.650000</td>\n",
       "      <td>8.600000</td>\n",
       "      <td>32209.675000</td>\n",
       "      <td>26.800000</td>\n",
       "      <td>113.600000</td>\n",
       "      <td>108.600000</td>\n",
       "      <td>51.700000</td>\n",
       "      <td>95.650000</td>\n",
       "      <td>27.000000</td>\n",
       "      <td>1.000000</td>\n",
       "    </tr>\n",
       "    <tr>\n",
       "      <th>max</th>\n",
       "      <td>299.000000</td>\n",
       "      <td>349.900000</td>\n",
       "      <td>159.500000</td>\n",
       "      <td>149.800000</td>\n",
       "      <td>50.000000</td>\n",
       "      <td>99.800000</td>\n",
       "      <td>1500.000000</td>\n",
       "      <td>699.400000</td>\n",
       "      <td>700.000000</td>\n",
       "      <td>100.000000</td>\n",
       "      <td>14.000000</td>\n",
       "      <td>44994.700000</td>\n",
       "      <td>50.000000</td>\n",
       "      <td>199.900000</td>\n",
       "      <td>199.900000</td>\n",
       "      <td>99.900000</td>\n",
       "      <td>179.900000</td>\n",
       "      <td>50.000000</td>\n",
       "      <td>2.000000</td>\n",
       "    </tr>\n",
       "  </tbody>\n",
       "</table>\n",
       "</div>"
      ],
      "text/plain": [
       "       Coolant_level  Electrical_supply_voltage  Electrical_supply_current  \\\n",
       "count    2182.000000                2182.000000                2182.000000   \n",
       "mean      139.312557                 224.702337                  57.169386   \n",
       "std        72.857315                  52.466764                  43.681373   \n",
       "min         1.000000                 100.300000                   0.100000   \n",
       "25%        80.000000                 203.725000                  22.700000   \n",
       "50%       135.000000                 224.450000                  45.200000   \n",
       "75%       187.000000                 246.000000                  87.275000   \n",
       "max       299.000000                 349.900000                 159.500000   \n",
       "\n",
       "       Compressed_air_flow_rate  Compressed_air_pressure  \\\n",
       "count               2182.000000              2182.000000   \n",
       "mean                  54.348029                15.846104   \n",
       "std                   41.258687                14.609233   \n",
       "min                    1.100000                 0.300000   \n",
       "25%                   22.000000                 4.600000   \n",
       "50%                   40.450000                 8.800000   \n",
       "75%                   85.075000                26.675000   \n",
       "max                  149.800000                50.000000   \n",
       "\n",
       "       Compressed_air_temperature  Through_spindle_coolant_pressure  \\\n",
       "count                 2182.000000                       2182.000000   \n",
       "mean                    46.337443                        641.747479   \n",
       "std                     26.313949                        398.191539   \n",
       "min                      0.000000                          0.500000   \n",
       "25%                     24.575000                        310.750000   \n",
       "50%                     45.300000                        605.850000   \n",
       "75%                     67.875000                        930.550000   \n",
       "max                     99.800000                       1500.000000   \n",
       "\n",
       "       Through_spindle_coolant_flow  Flood_coolant_flow  Coolant_temperature  \\\n",
       "count                   2182.000000         2182.000000          2182.000000   \n",
       "mean                     307.902383          307.984051            42.540742   \n",
       "std                      186.337149          182.748513            25.313686   \n",
       "min                        0.600000            0.400000             0.100000   \n",
       "25%                      150.075000          157.625000            21.700000   \n",
       "50%                      299.250000          301.050000            40.000000   \n",
       "75%                      449.875000          449.700000            57.650000   \n",
       "max                      699.400000          700.000000           100.000000   \n",
       "\n",
       "       Coolant_Acidity  Spindle_speed  Servo_motor_vibration  \\\n",
       "count      2182.000000    2182.000000            2182.000000   \n",
       "mean          7.012466   21439.557333              17.188222   \n",
       "std           3.029488   12531.884093              13.782263   \n",
       "min           0.000000      38.800000               1.000000   \n",
       "25%           5.400000   10408.375000               6.300000   \n",
       "50%           7.000000   21678.900000              12.200000   \n",
       "75%           8.600000   32209.675000              26.800000   \n",
       "max          14.000000   44994.700000              50.000000   \n",
       "\n",
       "       Servo_motor_torque  Coolant_dilution  Ballscrew_strain  \\\n",
       "count         2182.000000       2182.000000       2182.000000   \n",
       "mean            79.916682         75.979881         34.765353   \n",
       "std             52.916477         53.011670         26.616059   \n",
       "min              1.000000          0.200000          1.000000   \n",
       "25%             37.000000         33.525000         15.500000   \n",
       "50%             72.350000         65.550000         22.400000   \n",
       "75%            113.600000        108.600000         51.700000   \n",
       "max            199.900000        199.900000         99.900000   \n",
       "\n",
       "       Process_sound_monitoring  Spindle_vibration       Target  \n",
       "count               2182.000000        2182.000000  2182.000000  \n",
       "mean                  65.553483          17.384051     0.777269  \n",
       "std                   47.917455          13.657984     0.802836  \n",
       "min                    0.100000           1.000000     0.000000  \n",
       "25%                   27.200000           7.000000     0.000000  \n",
       "50%                   54.800000          12.400000     1.000000  \n",
       "75%                   95.650000          27.000000     1.000000  \n",
       "max                  179.900000          50.000000     2.000000  "
      ]
     },
     "execution_count": 5,
     "metadata": {},
     "output_type": "execute_result"
    }
   ],
   "source": [
    "data_df.describe()"
   ]
  },
  {
   "cell_type": "markdown",
   "id": "982e0497",
   "metadata": {},
   "source": [
    "## Visualising the Data"
   ]
  },
  {
   "cell_type": "markdown",
   "id": "4b5f42c0",
   "metadata": {},
   "source": [
    "# 3. Feature engineering"
   ]
  },
  {
   "cell_type": "markdown",
   "id": "c77862d4",
   "metadata": {},
   "source": [
    "## Feature selection"
   ]
  },
  {
   "cell_type": "code",
   "execution_count": 6,
   "id": "e0abff43",
   "metadata": {
    "scrolled": false
   },
   "outputs": [
    {
     "data": {
      "text/plain": [
       "<AxesSubplot:>"
      ]
     },
     "execution_count": 6,
     "metadata": {},
     "output_type": "execute_result"
    },
    {
     "data": {
      "image/png": "[encoded data removed]",
      "text/plain": [
       "<Figure size 1152x720 with 2 Axes>"
      ]
     },
     "metadata": {
      "needs_background": "light"
     },
     "output_type": "display_data"
    }
   ],
   "source": [
    "# Create a correlation matrix rounding to one decimal point\n",
    "correlation_matrix = data_df.corr().round(2)\n",
    "# Print a correlation heat map\n",
    "plt.figure(figsize=(16,10))\n",
    "sns.heatmap(data=correlation_matrix,annot=True)"
   ]
  },
  {
   "cell_type": "markdown",
   "id": "cc369b0c",
   "metadata": {},
   "source": [
    "# 4. Separate the target (Y) from the features (Xs)"
   ]
  },
  {
   "cell_type": "code",
   "execution_count": 7,
   "id": "93fe01d1",
   "metadata": {},
   "outputs": [
    {
     "data": {
      "text/html": [
       "<div>\n",
       "<style scoped>\n",
       "    .dataframe tbody tr th:only-of-type {\n",
       "        vertical-align: middle;\n",
       "    }\n",
       "\n",
       "    .dataframe tbody tr th {\n",
       "        vertical-align: top;\n",
       "    }\n",
       "\n",
       "    .dataframe thead th {\n",
       "        text-align: right;\n",
       "    }\n",
       "</style>\n",
       "<table border=\"1\" class=\"dataframe\">\n",
       "  <thead>\n",
       "    <tr style=\"text-align: right;\">\n",
       "      <th></th>\n",
       "      <th>Coolant_level</th>\n",
       "      <th>Electrical_supply_voltage</th>\n",
       "      <th>Electrical_supply_current</th>\n",
       "      <th>Compressed_air_flow_rate</th>\n",
       "      <th>Compressed_air_pressure</th>\n",
       "      <th>Compressed_air_temperature</th>\n",
       "      <th>Through_spindle_coolant_pressure</th>\n",
       "      <th>Through_spindle_coolant_flow</th>\n",
       "      <th>Flood_coolant_flow</th>\n",
       "      <th>Coolant_temperature</th>\n",
       "      <th>Coolant_Acidity</th>\n",
       "      <th>Spindle_speed</th>\n",
       "      <th>Servo_motor_vibration</th>\n",
       "      <th>Servo_motor_torque</th>\n",
       "      <th>Coolant_dilution</th>\n",
       "      <th>Ballscrew_strain</th>\n",
       "      <th>Process_sound_monitoring</th>\n",
       "      <th>Spindle_vibration</th>\n",
       "    </tr>\n",
       "    <tr>\n",
       "      <th>machine_id</th>\n",
       "      <th></th>\n",
       "      <th></th>\n",
       "      <th></th>\n",
       "      <th></th>\n",
       "      <th></th>\n",
       "      <th></th>\n",
       "      <th></th>\n",
       "      <th></th>\n",
       "      <th></th>\n",
       "      <th></th>\n",
       "      <th></th>\n",
       "      <th></th>\n",
       "      <th></th>\n",
       "      <th></th>\n",
       "      <th></th>\n",
       "      <th></th>\n",
       "      <th></th>\n",
       "      <th></th>\n",
       "    </tr>\n",
       "  </thead>\n",
       "  <tbody>\n",
       "    <tr>\n",
       "      <th>d8b67d7f-2c3e-46e4-94cc-cdaa67023b56</th>\n",
       "      <td>187</td>\n",
       "      <td>238.7</td>\n",
       "      <td>142.6</td>\n",
       "      <td>44.0</td>\n",
       "      <td>4.4</td>\n",
       "      <td>51.4</td>\n",
       "      <td>771.8</td>\n",
       "      <td>446.9</td>\n",
       "      <td>189.3</td>\n",
       "      <td>61.7</td>\n",
       "      <td>7.2</td>\n",
       "      <td>14986.5</td>\n",
       "      <td>19.8</td>\n",
       "      <td>11.0</td>\n",
       "      <td>4.8</td>\n",
       "      <td>46.7</td>\n",
       "      <td>21.6</td>\n",
       "      <td>6.8</td>\n",
       "    </tr>\n",
       "    <tr>\n",
       "      <th>2591cdaa-d61b-4f90-a08c-e69741ff34fa</th>\n",
       "      <td>58</td>\n",
       "      <td>139.8</td>\n",
       "      <td>26.1</td>\n",
       "      <td>66.0</td>\n",
       "      <td>0.5</td>\n",
       "      <td>41.4</td>\n",
       "      <td>39.0</td>\n",
       "      <td>644.6</td>\n",
       "      <td>214.1</td>\n",
       "      <td>37.0</td>\n",
       "      <td>4.6</td>\n",
       "      <td>9607.2</td>\n",
       "      <td>33.5</td>\n",
       "      <td>146.5</td>\n",
       "      <td>150.2</td>\n",
       "      <td>99.0</td>\n",
       "      <td>50.4</td>\n",
       "      <td>34.9</td>\n",
       "    </tr>\n",
       "    <tr>\n",
       "      <th>832fd357-3ca1-4c21-869b-18f18ea88f67</th>\n",
       "      <td>267</td>\n",
       "      <td>257.7</td>\n",
       "      <td>120.1</td>\n",
       "      <td>99.9</td>\n",
       "      <td>29.0</td>\n",
       "      <td>89.3</td>\n",
       "      <td>700.5</td>\n",
       "      <td>411.0</td>\n",
       "      <td>347.9</td>\n",
       "      <td>16.0</td>\n",
       "      <td>10.1</td>\n",
       "      <td>36063.3</td>\n",
       "      <td>48.2</td>\n",
       "      <td>5.5</td>\n",
       "      <td>181.4</td>\n",
       "      <td>2.5</td>\n",
       "      <td>102.2</td>\n",
       "      <td>42.6</td>\n",
       "    </tr>\n",
       "    <tr>\n",
       "      <th>004c77eb-e04a-4b87-bf00-67d941bf5436</th>\n",
       "      <td>132</td>\n",
       "      <td>341.7</td>\n",
       "      <td>142.8</td>\n",
       "      <td>22.7</td>\n",
       "      <td>5.6</td>\n",
       "      <td>1.5</td>\n",
       "      <td>515.0</td>\n",
       "      <td>176.6</td>\n",
       "      <td>278.3</td>\n",
       "      <td>27.6</td>\n",
       "      <td>0.2</td>\n",
       "      <td>4326.5</td>\n",
       "      <td>1.7</td>\n",
       "      <td>125.3</td>\n",
       "      <td>190.6</td>\n",
       "      <td>92.5</td>\n",
       "      <td>78.9</td>\n",
       "      <td>5.9</td>\n",
       "    </tr>\n",
       "    <tr>\n",
       "      <th>08e4b5f7-b048-45f5-a2fb-e134ad02bd23</th>\n",
       "      <td>108</td>\n",
       "      <td>211.0</td>\n",
       "      <td>73.4</td>\n",
       "      <td>5.1</td>\n",
       "      <td>4.6</td>\n",
       "      <td>27.5</td>\n",
       "      <td>1431.2</td>\n",
       "      <td>94.7</td>\n",
       "      <td>55.6</td>\n",
       "      <td>87.8</td>\n",
       "      <td>5.4</td>\n",
       "      <td>18552.7</td>\n",
       "      <td>5.0</td>\n",
       "      <td>90.0</td>\n",
       "      <td>87.0</td>\n",
       "      <td>62.1</td>\n",
       "      <td>115.3</td>\n",
       "      <td>19.4</td>\n",
       "    </tr>\n",
       "  </tbody>\n",
       "</table>\n",
       "</div>"
      ],
      "text/plain": [
       "                                      Coolant_level  \\\n",
       "machine_id                                            \n",
       "d8b67d7f-2c3e-46e4-94cc-cdaa67023b56            187   \n",
       "2591cdaa-d61b-4f90-a08c-e69741ff34fa             58   \n",
       "832fd357-3ca1-4c21-869b-18f18ea88f67            267   \n",
       "004c77eb-e04a-4b87-bf00-67d941bf5436            132   \n",
       "08e4b5f7-b048-45f5-a2fb-e134ad02bd23            108   \n",
       "\n",
       "                                      Electrical_supply_voltage  \\\n",
       "machine_id                                                        \n",
       "d8b67d7f-2c3e-46e4-94cc-cdaa67023b56                      238.7   \n",
       "2591cdaa-d61b-4f90-a08c-e69741ff34fa                      139.8   \n",
       "832fd357-3ca1-4c21-869b-18f18ea88f67                      257.7   \n",
       "004c77eb-e04a-4b87-bf00-67d941bf5436                      341.7   \n",
       "08e4b5f7-b048-45f5-a2fb-e134ad02bd23                      211.0   \n",
       "\n",
       "                                      Electrical_supply_current  \\\n",
       "machine_id                                                        \n",
       "d8b67d7f-2c3e-46e4-94cc-cdaa67023b56                      142.6   \n",
       "2591cdaa-d61b-4f90-a08c-e69741ff34fa                       26.1   \n",
       "832fd357-3ca1-4c21-869b-18f18ea88f67                      120.1   \n",
       "004c77eb-e04a-4b87-bf00-67d941bf5436                      142.8   \n",
       "08e4b5f7-b048-45f5-a2fb-e134ad02bd23                       73.4   \n",
       "\n",
       "                                      Compressed_air_flow_rate  \\\n",
       "machine_id                                                       \n",
       "d8b67d7f-2c3e-46e4-94cc-cdaa67023b56                      44.0   \n",
       "2591cdaa-d61b-4f90-a08c-e69741ff34fa                      66.0   \n",
       "832fd357-3ca1-4c21-869b-18f18ea88f67                      99.9   \n",
       "004c77eb-e04a-4b87-bf00-67d941bf5436                      22.7   \n",
       "08e4b5f7-b048-45f5-a2fb-e134ad02bd23                       5.1   \n",
       "\n",
       "                                      Compressed_air_pressure  \\\n",
       "machine_id                                                      \n",
       "d8b67d7f-2c3e-46e4-94cc-cdaa67023b56                      4.4   \n",
       "2591cdaa-d61b-4f90-a08c-e69741ff34fa                      0.5   \n",
       "832fd357-3ca1-4c21-869b-18f18ea88f67                     29.0   \n",
       "004c77eb-e04a-4b87-bf00-67d941bf5436                      5.6   \n",
       "08e4b5f7-b048-45f5-a2fb-e134ad02bd23                      4.6   \n",
       "\n",
       "                                      Compressed_air_temperature  \\\n",
       "machine_id                                                         \n",
       "d8b67d7f-2c3e-46e4-94cc-cdaa67023b56                        51.4   \n",
       "2591cdaa-d61b-4f90-a08c-e69741ff34fa                        41.4   \n",
       "832fd357-3ca1-4c21-869b-18f18ea88f67                        89.3   \n",
       "004c77eb-e04a-4b87-bf00-67d941bf5436                         1.5   \n",
       "08e4b5f7-b048-45f5-a2fb-e134ad02bd23                        27.5   \n",
       "\n",
       "                                      Through_spindle_coolant_pressure  \\\n",
       "machine_id                                                               \n",
       "d8b67d7f-2c3e-46e4-94cc-cdaa67023b56                             771.8   \n",
       "2591cdaa-d61b-4f90-a08c-e69741ff34fa                              39.0   \n",
       "832fd357-3ca1-4c21-869b-18f18ea88f67                             700.5   \n",
       "004c77eb-e04a-4b87-bf00-67d941bf5436                             515.0   \n",
       "08e4b5f7-b048-45f5-a2fb-e134ad02bd23                            1431.2   \n",
       "\n",
       "                                      Through_spindle_coolant_flow  \\\n",
       "machine_id                                                           \n",
       "d8b67d7f-2c3e-46e4-94cc-cdaa67023b56                         446.9   \n",
       "2591cdaa-d61b-4f90-a08c-e69741ff34fa                         644.6   \n",
       "832fd357-3ca1-4c21-869b-18f18ea88f67                         411.0   \n",
       "004c77eb-e04a-4b87-bf00-67d941bf5436                         176.6   \n",
       "08e4b5f7-b048-45f5-a2fb-e134ad02bd23                          94.7   \n",
       "\n",
       "                                      Flood_coolant_flow  Coolant_temperature  \\\n",
       "machine_id                                                                      \n",
       "d8b67d7f-2c3e-46e4-94cc-cdaa67023b56               189.3                 61.7   \n",
       "2591cdaa-d61b-4f90-a08c-e69741ff34fa               214.1                 37.0   \n",
       "832fd357-3ca1-4c21-869b-18f18ea88f67               347.9                 16.0   \n",
       "004c77eb-e04a-4b87-bf00-67d941bf5436               278.3                 27.6   \n",
       "08e4b5f7-b048-45f5-a2fb-e134ad02bd23                55.6                 87.8   \n",
       "\n",
       "                                      Coolant_Acidity  Spindle_speed  \\\n",
       "machine_id                                                             \n",
       "d8b67d7f-2c3e-46e4-94cc-cdaa67023b56              7.2        14986.5   \n",
       "2591cdaa-d61b-4f90-a08c-e69741ff34fa              4.6         9607.2   \n",
       "832fd357-3ca1-4c21-869b-18f18ea88f67             10.1        36063.3   \n",
       "004c77eb-e04a-4b87-bf00-67d941bf5436              0.2         4326.5   \n",
       "08e4b5f7-b048-45f5-a2fb-e134ad02bd23              5.4        18552.7   \n",
       "\n",
       "                                      Servo_motor_vibration  \\\n",
       "machine_id                                                    \n",
       "d8b67d7f-2c3e-46e4-94cc-cdaa67023b56                   19.8   \n",
       "2591cdaa-d61b-4f90-a08c-e69741ff34fa                   33.5   \n",
       "832fd357-3ca1-4c21-869b-18f18ea88f67                   48.2   \n",
       "004c77eb-e04a-4b87-bf00-67d941bf5436                    1.7   \n",
       "08e4b5f7-b048-45f5-a2fb-e134ad02bd23                    5.0   \n",
       "\n",
       "                                      Servo_motor_torque  Coolant_dilution  \\\n",
       "machine_id                                                                   \n",
       "d8b67d7f-2c3e-46e4-94cc-cdaa67023b56                11.0               4.8   \n",
       "2591cdaa-d61b-4f90-a08c-e69741ff34fa               146.5             150.2   \n",
       "832fd357-3ca1-4c21-869b-18f18ea88f67                 5.5             181.4   \n",
       "004c77eb-e04a-4b87-bf00-67d941bf5436               125.3             190.6   \n",
       "08e4b5f7-b048-45f5-a2fb-e134ad02bd23                90.0              87.0   \n",
       "\n",
       "                                      Ballscrew_strain  \\\n",
       "machine_id                                               \n",
       "d8b67d7f-2c3e-46e4-94cc-cdaa67023b56              46.7   \n",
       "2591cdaa-d61b-4f90-a08c-e69741ff34fa              99.0   \n",
       "832fd357-3ca1-4c21-869b-18f18ea88f67               2.5   \n",
       "004c77eb-e04a-4b87-bf00-67d941bf5436              92.5   \n",
       "08e4b5f7-b048-45f5-a2fb-e134ad02bd23              62.1   \n",
       "\n",
       "                                      Process_sound_monitoring  \\\n",
       "machine_id                                                       \n",
       "d8b67d7f-2c3e-46e4-94cc-cdaa67023b56                      21.6   \n",
       "2591cdaa-d61b-4f90-a08c-e69741ff34fa                      50.4   \n",
       "832fd357-3ca1-4c21-869b-18f18ea88f67                     102.2   \n",
       "004c77eb-e04a-4b87-bf00-67d941bf5436                      78.9   \n",
       "08e4b5f7-b048-45f5-a2fb-e134ad02bd23                     115.3   \n",
       "\n",
       "                                      Spindle_vibration  \n",
       "machine_id                                               \n",
       "d8b67d7f-2c3e-46e4-94cc-cdaa67023b56                6.8  \n",
       "2591cdaa-d61b-4f90-a08c-e69741ff34fa               34.9  \n",
       "832fd357-3ca1-4c21-869b-18f18ea88f67               42.6  \n",
       "004c77eb-e04a-4b87-bf00-67d941bf5436                5.9  \n",
       "08e4b5f7-b048-45f5-a2fb-e134ad02bd23               19.4  "
      ]
     },
     "execution_count": 7,
     "metadata": {},
     "output_type": "execute_result"
    }
   ],
   "source": [
    "# Create a DataFrame of features\n",
    "features_df = data_df.drop('Target', axis=1)\n",
    "features_df.head()"
   ]
  },
  {
   "cell_type": "markdown",
   "id": "f256b1a7",
   "metadata": {},
   "source": [
    "Normalise the features:"
   ]
  },
  {
   "cell_type": "code",
   "execution_count": 8,
   "id": "9d4a3c7f",
   "metadata": {},
   "outputs": [
    {
     "data": {
      "text/html": [
       "<div>\n",
       "<style scoped>\n",
       "    .dataframe tbody tr th:only-of-type {\n",
       "        vertical-align: middle;\n",
       "    }\n",
       "\n",
       "    .dataframe tbody tr th {\n",
       "        vertical-align: top;\n",
       "    }\n",
       "\n",
       "    .dataframe thead th {\n",
       "        text-align: right;\n",
       "    }\n",
       "</style>\n",
       "<table border=\"1\" class=\"dataframe\">\n",
       "  <thead>\n",
       "    <tr style=\"text-align: right;\">\n",
       "      <th></th>\n",
       "      <th>Coolant_level</th>\n",
       "      <th>Electrical_supply_voltage</th>\n",
       "      <th>Electrical_supply_current</th>\n",
       "      <th>Compressed_air_flow_rate</th>\n",
       "      <th>Compressed_air_pressure</th>\n",
       "      <th>Compressed_air_temperature</th>\n",
       "      <th>Through_spindle_coolant_pressure</th>\n",
       "      <th>Through_spindle_coolant_flow</th>\n",
       "      <th>Flood_coolant_flow</th>\n",
       "      <th>Coolant_temperature</th>\n",
       "      <th>Coolant_Acidity</th>\n",
       "      <th>Spindle_speed</th>\n",
       "      <th>Servo_motor_vibration</th>\n",
       "      <th>Servo_motor_torque</th>\n",
       "      <th>Coolant_dilution</th>\n",
       "      <th>Ballscrew_strain</th>\n",
       "      <th>Process_sound_monitoring</th>\n",
       "      <th>Spindle_vibration</th>\n",
       "    </tr>\n",
       "  </thead>\n",
       "  <tbody>\n",
       "    <tr>\n",
       "      <th>0</th>\n",
       "      <td>0.485981</td>\n",
       "      <td>0.337079</td>\n",
       "      <td>1.508324</td>\n",
       "      <td>0.056282</td>\n",
       "      <td>-0.199320</td>\n",
       "      <td>0.140878</td>\n",
       "      <td>0.267748</td>\n",
       "      <td>0.492495</td>\n",
       "      <td>-0.382607</td>\n",
       "      <td>0.603616</td>\n",
       "      <td>0.06250</td>\n",
       "      <td>-0.306973</td>\n",
       "      <td>0.370732</td>\n",
       "      <td>-0.800914</td>\n",
       "      <td>-0.809191</td>\n",
       "      <td>0.671271</td>\n",
       "      <td>-0.485026</td>\n",
       "      <td>-0.280</td>\n",
       "    </tr>\n",
       "    <tr>\n",
       "      <th>1</th>\n",
       "      <td>-0.719626</td>\n",
       "      <td>-2.002365</td>\n",
       "      <td>-0.295780</td>\n",
       "      <td>0.405073</td>\n",
       "      <td>-0.375991</td>\n",
       "      <td>-0.090069</td>\n",
       "      <td>-0.914569</td>\n",
       "      <td>1.151935</td>\n",
       "      <td>-0.297698</td>\n",
       "      <td>-0.083449</td>\n",
       "      <td>-0.75000</td>\n",
       "      <td>-0.553715</td>\n",
       "      <td>1.039024</td>\n",
       "      <td>0.968016</td>\n",
       "      <td>1.127539</td>\n",
       "      <td>2.116022</td>\n",
       "      <td>-0.064280</td>\n",
       "      <td>1.125</td>\n",
       "    </tr>\n",
       "    <tr>\n",
       "      <th>2</th>\n",
       "      <td>1.233645</td>\n",
       "      <td>0.786517</td>\n",
       "      <td>1.159892</td>\n",
       "      <td>0.942529</td>\n",
       "      <td>0.915062</td>\n",
       "      <td>1.016166</td>\n",
       "      <td>0.152711</td>\n",
       "      <td>0.372748</td>\n",
       "      <td>0.160404</td>\n",
       "      <td>-0.667594</td>\n",
       "      <td>0.96875</td>\n",
       "      <td>0.659796</td>\n",
       "      <td>1.756098</td>\n",
       "      <td>-0.872715</td>\n",
       "      <td>1.543124</td>\n",
       "      <td>-0.549724</td>\n",
       "      <td>0.692476</td>\n",
       "      <td>1.510</td>\n",
       "    </tr>\n",
       "    <tr>\n",
       "      <th>3</th>\n",
       "      <td>-0.028037</td>\n",
       "      <td>2.773507</td>\n",
       "      <td>1.511421</td>\n",
       "      <td>-0.281411</td>\n",
       "      <td>-0.144960</td>\n",
       "      <td>-1.011547</td>\n",
       "      <td>-0.146580</td>\n",
       "      <td>-0.409106</td>\n",
       "      <td>-0.077891</td>\n",
       "      <td>-0.344924</td>\n",
       "      <td>-2.12500</td>\n",
       "      <td>-0.795934</td>\n",
       "      <td>-0.512195</td>\n",
       "      <td>0.691253</td>\n",
       "      <td>1.665668</td>\n",
       "      <td>1.936464</td>\n",
       "      <td>0.352082</td>\n",
       "      <td>-0.325</td>\n",
       "    </tr>\n",
       "    <tr>\n",
       "      <th>4</th>\n",
       "      <td>-0.252336</td>\n",
       "      <td>-0.318155</td>\n",
       "      <td>0.436702</td>\n",
       "      <td>-0.560444</td>\n",
       "      <td>-0.190260</td>\n",
       "      <td>-0.411085</td>\n",
       "      <td>1.331639</td>\n",
       "      <td>-0.682288</td>\n",
       "      <td>-0.840366</td>\n",
       "      <td>1.329624</td>\n",
       "      <td>-0.50000</td>\n",
       "      <td>-0.143395</td>\n",
       "      <td>-0.351220</td>\n",
       "      <td>0.230418</td>\n",
       "      <td>0.285714</td>\n",
       "      <td>1.096685</td>\n",
       "      <td>0.883857</td>\n",
       "      <td>0.350</td>\n",
       "    </tr>\n",
       "  </tbody>\n",
       "</table>\n",
       "</div>"
      ],
      "text/plain": [
       "   Coolant_level  Electrical_supply_voltage  Electrical_supply_current  \\\n",
       "0       0.485981                   0.337079                   1.508324   \n",
       "1      -0.719626                  -2.002365                  -0.295780   \n",
       "2       1.233645                   0.786517                   1.159892   \n",
       "3      -0.028037                   2.773507                   1.511421   \n",
       "4      -0.252336                  -0.318155                   0.436702   \n",
       "\n",
       "   Compressed_air_flow_rate  Compressed_air_pressure  \\\n",
       "0                  0.056282                -0.199320   \n",
       "1                  0.405073                -0.375991   \n",
       "2                  0.942529                 0.915062   \n",
       "3                 -0.281411                -0.144960   \n",
       "4                 -0.560444                -0.190260   \n",
       "\n",
       "   Compressed_air_temperature  Through_spindle_coolant_pressure  \\\n",
       "0                    0.140878                          0.267748   \n",
       "1                   -0.090069                         -0.914569   \n",
       "2                    1.016166                          0.152711   \n",
       "3                   -1.011547                         -0.146580   \n",
       "4                   -0.411085                          1.331639   \n",
       "\n",
       "   Through_spindle_coolant_flow  Flood_coolant_flow  Coolant_temperature  \\\n",
       "0                      0.492495           -0.382607             0.603616   \n",
       "1                      1.151935           -0.297698            -0.083449   \n",
       "2                      0.372748            0.160404            -0.667594   \n",
       "3                     -0.409106           -0.077891            -0.344924   \n",
       "4                     -0.682288           -0.840366             1.329624   \n",
       "\n",
       "   Coolant_Acidity  Spindle_speed  Servo_motor_vibration  Servo_motor_torque  \\\n",
       "0          0.06250      -0.306973               0.370732           -0.800914   \n",
       "1         -0.75000      -0.553715               1.039024            0.968016   \n",
       "2          0.96875       0.659796               1.756098           -0.872715   \n",
       "3         -2.12500      -0.795934              -0.512195            0.691253   \n",
       "4         -0.50000      -0.143395              -0.351220            0.230418   \n",
       "\n",
       "   Coolant_dilution  Ballscrew_strain  Process_sound_monitoring  \\\n",
       "0         -0.809191          0.671271                 -0.485026   \n",
       "1          1.127539          2.116022                 -0.064280   \n",
       "2          1.543124         -0.549724                  0.692476   \n",
       "3          1.665668          1.936464                  0.352082   \n",
       "4          0.285714          1.096685                  0.883857   \n",
       "\n",
       "   Spindle_vibration  \n",
       "0             -0.280  \n",
       "1              1.125  \n",
       "2              1.510  \n",
       "3             -0.325  \n",
       "4              0.350  "
      ]
     },
     "execution_count": 8,
     "metadata": {},
     "output_type": "execute_result"
    }
   ],
   "source": [
    "from sklearn.preprocessing import RobustScaler\n",
    "\n",
    "scaler = RobustScaler()\n",
    "\n",
    "feature_names = features_df.columns.values\n",
    "features_df_new = scaler.fit_transform(features_df)\n",
    "features_df_new = pd.DataFrame(features_df_new, columns=feature_names)\n",
    "\n",
    "features_df_new.head()"
   ]
  },
  {
   "cell_type": "code",
   "execution_count": 9,
   "id": "ab2484cb",
   "metadata": {},
   "outputs": [
    {
     "data": {
      "text/plain": [
       "machine_id\n",
       "d8b67d7f-2c3e-46e4-94cc-cdaa67023b56    1\n",
       "2591cdaa-d61b-4f90-a08c-e69741ff34fa    1\n",
       "832fd357-3ca1-4c21-869b-18f18ea88f67    2\n",
       "004c77eb-e04a-4b87-bf00-67d941bf5436    1\n",
       "08e4b5f7-b048-45f5-a2fb-e134ad02bd23    1\n",
       "                                       ..\n",
       "c37e117d-3e1e-4817-a283-4d4be092121e    0\n",
       "7a8f5471-73fe-41b4-b129-ba5ddfa09b9d    0\n",
       "1ba350e6-0b7d-4b77-bb38-ec2deeae01a2    0\n",
       "fe914e20-9376-427d-85f3-3708a2f1da47    0\n",
       "52c25f20-cb0e-4b34-afb6-c32e6be91c84    0\n",
       "Name: Target, Length: 2182, dtype: int64"
      ]
     },
     "execution_count": 9,
     "metadata": {},
     "output_type": "execute_result"
    }
   ],
   "source": [
    "# Create a target variable\n",
    "data_target = data_df.Target\n",
    "data_target"
   ]
  },
  {
   "cell_type": "markdown",
   "id": "f14cf3ea",
   "metadata": {},
   "source": [
    "# 5. Split the data into training and test"
   ]
  },
  {
   "cell_type": "code",
   "execution_count": 10,
   "id": "3e867d43",
   "metadata": {},
   "outputs": [
    {
     "name": "stdout",
     "output_type": "stream",
     "text": [
      "(1745, 18)\n",
      "(437, 18)\n",
      "(1745,)\n",
      "(437,)\n"
     ]
    }
   ],
   "source": [
    "# Split data into training and test\n",
    "from sklearn.model_selection import train_test_split\n",
    "X_train, X_test, Y_train, Y_test = train_test_split(features_df_new, data_target,test_size = 0.2)\n",
    "\n",
    "# Print the shapes to check everything is OK\n",
    "print(X_train.shape)\n",
    "print(X_test.shape)\n",
    "print(Y_train.shape)\n",
    "print(Y_test.shape)"
   ]
  },
  {
   "cell_type": "markdown",
   "id": "a44e7f41",
   "metadata": {},
   "source": [
    "# 6. Run the model on the training data and check the performance metrics / score"
   ]
  },
  {
   "cell_type": "markdown",
   "id": "9cbab1c7",
   "metadata": {},
   "source": [
    "## Decision Tree Classifier\n",
    "Decision trees are a process of classifying data based on features and are suitable for applications with clear classification results.Decision trees can be used to determine which group data is most likely to fall into by its characteristics."
   ]
  },
  {
   "cell_type": "markdown",
   "id": "b58c1079",
   "metadata": {},
   "source": [
    "Fit the model to the training data:"
   ]
  },
  {
   "cell_type": "code",
   "execution_count": 11,
   "id": "141c3f81",
   "metadata": {},
   "outputs": [],
   "source": [
    "from sklearn.tree import DecisionTreeClassifier as DTC\n",
    "tree_model = DTC()\n",
    "tree_model_fit = tree_model.fit(X_train, Y_train)"
   ]
  },
  {
   "cell_type": "markdown",
   "id": "75bd8b73",
   "metadata": {},
   "source": [
    "Plot confusion matrix:"
   ]
  },
  {
   "cell_type": "code",
   "execution_count": 12,
   "id": "a4185136",
   "metadata": {},
   "outputs": [],
   "source": [
    "from sklearn.metrics import confusion_matrix\n",
    "import matplotlib.pyplot as plt\n",
    "from sklearn.utils.multiclass import unique_labels\n",
    "%matplotlib inline\n",
    "\n",
    "np.set_printoptions(precision=2)\n",
    "\n",
    "def plot_confusion_matrix(y_true, y_pred, classes,\n",
    "                          normalise=False,\n",
    "                          title=None,\n",
    "                          cmap=plt.cm.Blues,\n",
    "                          multi=False):\n",
    "    \"\"\"\n",
    "    This function prints and plots the confusion matrix.\n",
    "    Normalization can be applied by setting `normalise=True`.\n",
    "    \"\"\"\n",
    "    if not title:\n",
    "        if normalise:\n",
    "            title = 'Normalised confusion matrix'\n",
    "        else:\n",
    "            title = 'Confusion matrix, without normalisation'\n",
    "\n",
    "    # Compute confusion matrix\n",
    "    cm = confusion_matrix(y_true, y_pred)\n",
    "    \n",
    "    # Only use the labels that appear in the data\n",
    "    if multi==True:\n",
    "    \tclasses = classes[unique_labels(y_true, y_pred)]\n",
    "    if normalise:\n",
    "        cm = cm.astype('float') / cm.sum(axis=1)[:, np.newaxis]\n",
    "\n",
    "    fig, ax = plt.subplots()\n",
    "    im = ax.imshow(cm, interpolation='nearest', cmap=cmap)\n",
    "    ax.figure.colorbar(im, ax=ax)\n",
    "    # We want to show all ticks...\n",
    "    ax.set(xticks=np.arange(cm.shape[1]),\n",
    "           yticks=np.arange(cm.shape[0]),\n",
    "           # ... and label them with the respective list entries\n",
    "           xticklabels=classes, yticklabels=classes,\n",
    "           title=title,\n",
    "           ylabel='True label',\n",
    "           xlabel='Predicted label')\n",
    "\n",
    "    # Rotate the tick labels and set their alignment.\n",
    "    plt.setp(ax.get_xticklabels(), rotation=45, ha=\"right\",\n",
    "             rotation_mode=\"anchor\");\n",
    "\n",
    "    fmt = '.2f' if normalise else 'd'\n",
    "    thresh = cm.max() / 2\n",
    "    for i in range(cm.shape[0]):\n",
    "        for j in range(cm.shape[1]):\n",
    "            ax.text(j, i, format(cm[i, j], fmt),\n",
    "                    ha=\"center\", va=\"center\",\n",
    "                    color=\"white\" if cm[i, j] > thresh else \"black\")\n",
    "    fig.tight_layout()\n",
    "\n",
    "    return ax"
   ]
  },
  {
   "cell_type": "code",
   "execution_count": 13,
   "id": "7bf89a23",
   "metadata": {},
   "outputs": [
    {
     "data": {
      "text/plain": [
       "<AxesSubplot:title={'center':'Normalised confusion matrix'}, xlabel='Predicted label', ylabel='True label'>"
      ]
     },
     "execution_count": 13,
     "metadata": {},
     "output_type": "execute_result"
    },
    {
     "data": {
      "image/png": "[encoded data removed]",
      "text/plain": [
       "<Figure size 432x288 with 2 Axes>"
      ]
     },
     "metadata": {
      "needs_background": "light"
     },
     "output_type": "display_data"
    },
    {
     "data": {
      "image/png": "[encoded data removed]",
      "text/plain": [
       "<Figure size 432x288 with 2 Axes>"
      ]
     },
     "metadata": {
      "needs_background": "light"
     },
     "output_type": "display_data"
    }
   ],
   "source": [
    "# predict the test data\n",
    "predicted = tree_model_fit.predict(X_test)\n",
    "\n",
    "# Plot non-normalised confusion matrix\n",
    "plot_confusion_matrix(Y_test, predicted, classes=[\"0\", \"1\",\"2\"])\n",
    "\n",
    "# Plot normalised confusion matrix\n",
    "plot_confusion_matrix(Y_test, predicted, classes=[\"0\", \"1\",\"2\"], normalise=True)"
   ]
  },
  {
   "cell_type": "markdown",
   "id": "f716b7da",
   "metadata": {},
   "source": [
    "Get the score of the test data:"
   ]
  },
  {
   "cell_type": "code",
   "execution_count": 14,
   "id": "13d2952b",
   "metadata": {},
   "outputs": [
    {
     "name": "stdout",
     "output_type": "stream",
     "text": [
      "              precision    recall  f1-score   support\n",
      "\n",
      "         Bad       1.00      1.00      1.00       200\n",
      "     Average       0.71      0.76      0.73       139\n",
      "        Good       0.62      0.57      0.60        98\n",
      "\n",
      "    accuracy                           0.83       437\n",
      "   macro avg       0.78      0.78      0.78       437\n",
      "weighted avg       0.82      0.83      0.82       437\n",
      "\n"
     ]
    }
   ],
   "source": [
    "from sklearn.metrics import classification_report\n",
    "print(classification_report(Y_test, predicted, target_names=[\"Bad\",\"Average\",\"Good\"]))"
   ]
  },
  {
   "cell_type": "markdown",
   "id": "8439d740",
   "metadata": {},
   "source": [
    "## Random Forest Classifier\n",
    "Random Forest is an integrated algorithm that enables high accuracy of the model results by combining multiple weak classifiers. The randomness also reduces the model variance."
   ]
  },
  {
   "cell_type": "markdown",
   "id": "44c9f155",
   "metadata": {},
   "source": [
    "Fit the model to the training data:"
   ]
  },
  {
   "cell_type": "code",
   "execution_count": 15,
   "id": "aee2aa7c",
   "metadata": {},
   "outputs": [],
   "source": [
    "from sklearn import ensemble\n",
    "rf_model = ensemble.RandomForestClassifier()\n",
    "rf_model_fit = rf_model.fit(X_train, Y_train)"
   ]
  },
  {
   "cell_type": "markdown",
   "id": "2bbbc678",
   "metadata": {},
   "source": [
    "Plot confusion matrix:"
   ]
  },
  {
   "cell_type": "code",
   "execution_count": 16,
   "id": "286bec21",
   "metadata": {},
   "outputs": [
    {
     "data": {
      "text/plain": [
       "<AxesSubplot:title={'center':'Normalised confusion matrix'}, xlabel='Predicted label', ylabel='True label'>"
      ]
     },
     "execution_count": 16,
     "metadata": {},
     "output_type": "execute_result"
    },
    {
     "data": {
      "image/png": "[encoded data removed]",
      "text/plain": [
       "<Figure size 432x288 with 2 Axes>"
      ]
     },
     "metadata": {
      "needs_background": "light"
     },
     "output_type": "display_data"
    },
    {
     "data": {
      "image/png": "[encoded data removed]",
      "text/plain": [
       "<Figure size 432x288 with 2 Axes>"
      ]
     },
     "metadata": {
      "needs_background": "light"
     },
     "output_type": "display_data"
    }
   ],
   "source": [
    "# predict the test data\n",
    "predicted = rf_model_fit.predict(X_test)\n",
    "\n",
    "# Plot non-normalised confusion matrix\n",
    "plot_confusion_matrix(Y_test, predicted, classes=[\"0\", \"1\",\"2\"])\n",
    "\n",
    "# Plot normalised confusion matrix\n",
    "plot_confusion_matrix(Y_test, predicted, classes=[\"0\", \"1\",\"2\"], normalise=True)"
   ]
  },
  {
   "cell_type": "markdown",
   "id": "7a0540e5",
   "metadata": {},
   "source": [
    "Get the score of the test data:"
   ]
  },
  {
   "cell_type": "code",
   "execution_count": 17,
   "id": "4b6800cd",
   "metadata": {},
   "outputs": [
    {
     "name": "stdout",
     "output_type": "stream",
     "text": [
      "              precision    recall  f1-score   support\n",
      "\n",
      "         Bad       1.00      1.00      1.00       200\n",
      "     Average       0.90      0.87      0.89       139\n",
      "        Good       0.83      0.87      0.85        98\n",
      "\n",
      "    accuracy                           0.93       437\n",
      "   macro avg       0.91      0.91      0.91       437\n",
      "weighted avg       0.93      0.93      0.93       437\n",
      "\n"
     ]
    }
   ],
   "source": [
    "print(classification_report(Y_test, predicted, target_names=[\"Bad\",\"Average\",\"Good\"]))"
   ]
  },
  {
   "cell_type": "markdown",
   "id": "3d3b6126",
   "metadata": {},
   "source": [
    "## Gradient Boosting Classifier\n",
    "Gradient Boosting is also essentially a fusion of multiple weak classifiers that can be used to predict categorical variables."
   ]
  },
  {
   "cell_type": "markdown",
   "id": "bbe0ce17",
   "metadata": {},
   "source": [
    "Fit the model to the training data:"
   ]
  },
  {
   "cell_type": "code",
   "execution_count": 18,
   "id": "855b85b9",
   "metadata": {},
   "outputs": [],
   "source": [
    "grb_model = ensemble.GradientBoostingClassifier()\n",
    "grb_model_fit = grb_model.fit(X_train, Y_train)"
   ]
  },
  {
   "cell_type": "markdown",
   "id": "a005619b",
   "metadata": {},
   "source": [
    "Plot confusion matrix:"
   ]
  },
  {
   "cell_type": "code",
   "execution_count": 19,
   "id": "e9b53b69",
   "metadata": {},
   "outputs": [
    {
     "data": {
      "text/plain": [
       "<AxesSubplot:title={'center':'Normalised confusion matrix'}, xlabel='Predicted label', ylabel='True label'>"
      ]
     },
     "execution_count": 19,
     "metadata": {},
     "output_type": "execute_result"
    },
    {
     "data": {
      "image/png": "[encoded data removed]",
      "text/plain": [
       "<Figure size 432x288 with 2 Axes>"
      ]
     },
     "metadata": {
      "needs_background": "light"
     },
     "output_type": "display_data"
    },
    {
     "data": {
      "image/png": "[encoded data removed]",
      "text/plain": [
       "<Figure size 432x288 with 2 Axes>"
      ]
     },
     "metadata": {
      "needs_background": "light"
     },
     "output_type": "display_data"
    }
   ],
   "source": [
    "# predict the test data\n",
    "predicted = grb_model_fit.predict(X_test)\n",
    "\n",
    "# Plot non-normalised confusion matrix\n",
    "plot_confusion_matrix(Y_test, predicted, classes=[\"0\", \"1\",\"2\"])\n",
    "\n",
    "# Plot normalised confusion matrix\n",
    "plot_confusion_matrix(Y_test, predicted, classes=[\"0\", \"1\",\"2\"], normalise=True)"
   ]
  },
  {
   "cell_type": "markdown",
   "id": "7d2d4ba1",
   "metadata": {},
   "source": [
    "Get the score of the test data:"
   ]
  },
  {
   "cell_type": "code",
   "execution_count": 20,
   "id": "d7c7dd89",
   "metadata": {
    "scrolled": true
   },
   "outputs": [
    {
     "name": "stdout",
     "output_type": "stream",
     "text": [
      "              precision    recall  f1-score   support\n",
      "\n",
      "         Bad       1.00      1.00      1.00       200\n",
      "     Average       0.92      0.89      0.91       139\n",
      "        Good       0.85      0.89      0.87        98\n",
      "\n",
      "    accuracy                           0.94       437\n",
      "   macro avg       0.92      0.93      0.93       437\n",
      "weighted avg       0.94      0.94      0.94       437\n",
      "\n"
     ]
    }
   ],
   "source": [
    "print(classification_report(Y_test, predicted, target_names=[\"Bad\",\"Average\",\"Good\"]))"
   ]
  },
  {
   "cell_type": "markdown",
   "id": "c2afcfd2",
   "metadata": {},
   "source": [
    "## SVM\n",
    "SVMs were originally used to solve binary classification problems, but the construction of multi- classifier can be achieved by combining multiple binary classifiers."
   ]
  },
  {
   "cell_type": "markdown",
   "id": "af1a6988",
   "metadata": {},
   "source": [
    "Fit the model to the training data:"
   ]
  },
  {
   "cell_type": "code",
   "execution_count": 21,
   "id": "2add861c",
   "metadata": {},
   "outputs": [],
   "source": [
    "from sklearn import svm\n",
    "svm_model = svm.SVC()\n",
    "svm_model_fit = svm_model.fit(X_train, Y_train)"
   ]
  },
  {
   "cell_type": "markdown",
   "id": "bc9e8732",
   "metadata": {},
   "source": [
    "Plot confusion matrix:"
   ]
  },
  {
   "cell_type": "code",
   "execution_count": 22,
   "id": "bc57a5a7",
   "metadata": {},
   "outputs": [
    {
     "data": {
      "text/plain": [
       "<AxesSubplot:title={'center':'Normalised confusion matrix'}, xlabel='Predicted label', ylabel='True label'>"
      ]
     },
     "execution_count": 22,
     "metadata": {},
     "output_type": "execute_result"
    },
    {
     "data": {
      "image/png": "[encoded data removed]",
      "text/plain": [
       "<Figure size 432x288 with 2 Axes>"
      ]
     },
     "metadata": {
      "needs_background": "light"
     },
     "output_type": "display_data"
    },
    {
     "data": {
      "image/png": "[encoded data removed]",
      "text/plain": [
       "<Figure size 432x288 with 2 Axes>"
      ]
     },
     "metadata": {
      "needs_background": "light"
     },
     "output_type": "display_data"
    }
   ],
   "source": [
    "# predict the test data\n",
    "predicted = grb_model_fit.predict(X_test)\n",
    "\n",
    "# Plot non-normalised confusion matrix\n",
    "plot_confusion_matrix(Y_test, predicted, classes=[\"0\", \"1\",\"2\"])\n",
    "\n",
    "# Plot normalised confusion matrix\n",
    "plot_confusion_matrix(Y_test, predicted, classes=[\"0\", \"1\",\"2\"], normalise=True)"
   ]
  },
  {
   "cell_type": "markdown",
   "id": "42318165",
   "metadata": {},
   "source": [
    "Get the score of the test data:"
   ]
  },
  {
   "cell_type": "code",
   "execution_count": 23,
   "id": "720d327a",
   "metadata": {},
   "outputs": [
    {
     "name": "stdout",
     "output_type": "stream",
     "text": [
      "              precision    recall  f1-score   support\n",
      "\n",
      "         Bad       1.00      1.00      1.00       200\n",
      "     Average       0.92      0.89      0.91       139\n",
      "        Good       0.85      0.89      0.87        98\n",
      "\n",
      "    accuracy                           0.94       437\n",
      "   macro avg       0.92      0.93      0.93       437\n",
      "weighted avg       0.94      0.94      0.94       437\n",
      "\n"
     ]
    }
   ],
   "source": [
    "print(classification_report(Y_test, predicted, target_names=[\"Bad\",\"Average\",\"Good\"]))"
   ]
  },
  {
   "cell_type": "code",
   "execution_count": null,
   "id": "726b38fc",
   "metadata": {},
   "outputs": [],
   "source": []
  },
  {
   "cell_type": "code",
   "execution_count": null,
   "id": "7140490a",
   "metadata": {},
   "outputs": [],
   "source": []
  }
 ],
 "metadata": {
  "kernelspec": {
   "display_name": "Python 3 (ipykernel)",
   "language": "python",
   "name": "python3"
  },
  "language_info": {
   "codemirror_mode": {
    "name": "ipython",
    "version": 3
   },
   "file_extension": ".py",
   "mimetype": "text/x-python",
   "name": "python",
   "nbconvert_exporter": "python",
   "pygments_lexer": "ipython3",
   "version": "3.9.7"
  }
 },
 "nbformat": 4,
 "nbformat_minor": 5
}
